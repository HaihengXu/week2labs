{
 "cells": [
  {
   "cell_type": "markdown",
   "id": "ca20b5c2-a4f4-4a9b-9d21-cbc2b75f0a66",
   "metadata": {},
   "source": [
    "MSBA BGEN632 Graduate Introduction to Python\n",
    "Week 2 Independent Lab \n",
    "Haiheng Xu\n",
    "03-06-2025\n",
    "\n",
    "Welcome to my Fahrenheit to Celsius converter!"
   ]
  },
  {
   "cell_type": "markdown",
   "id": "4d04595e-7068-461f-afb2-c911e2108422",
   "metadata": {},
   "source": [
    "### Step 1 "
   ]
  },
  {
   "cell_type": "code",
   "execution_count": 25,
   "id": "a064dcf1-f473-4206-8964-0125c67647d3",
   "metadata": {},
   "outputs": [],
   "source": [
    "celsius = 0.0 # Assigning 0 to celsius\n",
    "fahrenheit = 0.0 # Assigning 0 to Fahrenheit"
   ]
  },
  {
   "cell_type": "markdown",
   "id": "c9862de2-30b1-4a74-8541-b64bf01eeae1",
   "metadata": {},
   "source": [
    "### Step 2"
   ]
  },
  {
   "cell_type": "code",
   "execution_count": 30,
   "id": "a3ce48d1-700b-4690-b610-20a390f0f0ee",
   "metadata": {},
   "outputs": [
    {
     "name": "stdin",
     "output_type": "stream",
     "text": [
      "Please provide a value, in Celsius, to convert:\n",
      " 37\n"
     ]
    }
   ],
   "source": [
    "text = int(input(\"Please provide a value, in Celsius, to convert:\\n\"))"
   ]
  },
  {
   "cell_type": "markdown",
   "id": "330326e7-8910-4d97-aec2-34eb3869d427",
   "metadata": {},
   "source": [
    "*I choose int because most of the time ,we will use a whole number of tempreture instead of number with decimals*"
   ]
  },
  {
   "cell_type": "code",
   "execution_count": 33,
   "id": "155a5799-1bae-4eab-bd07-b5825985ca3e",
   "metadata": {},
   "outputs": [],
   "source": [
    "celsius = int(text)  # Convert text to a integer\n",
    "fahrenheit = (9 / 5) * celsius + 32 # Celsius to Fahrenheit Conversion"
   ]
  },
  {
   "cell_type": "code",
   "execution_count": 35,
   "id": "12a07c8f-cee6-4993-ab69-23a676a9fa49",
   "metadata": {},
   "outputs": [
    {
     "name": "stdout",
     "output_type": "stream",
     "text": [
      "37 degrees Celsius is 98.60000000000001 degrees Fahrenheit\n"
     ]
    }
   ],
   "source": [
    "print(\"{} degrees Celsius is {} degrees Fahrenheit\".format(text, fahrenheit)) # Showing the result"
   ]
  },
  {
   "cell_type": "code",
   "execution_count": 37,
   "id": "b960b703-5e57-4e3a-8be6-cd2514683566",
   "metadata": {},
   "outputs": [
    {
     "data": {
      "text/plain": [
       "int"
      ]
     },
     "execution_count": 37,
     "metadata": {},
     "output_type": "execute_result"
    }
   ],
   "source": [
    "int_fahrenheit = int(fahrenheit) # Convert fahrenheit to integer\n",
    "type(int_fahrenheit) # Check data type"
   ]
  },
  {
   "cell_type": "markdown",
   "id": "19b800b9-be2a-460e-bbb0-97364d08c38a",
   "metadata": {},
   "source": [
    "External help : https://chatgpt.com/c/67c9e5a9-9fc0-800c-9d37-df6de0e55943"
   ]
  }
 ],
 "metadata": {
  "kernelspec": {
   "display_name": "Python [conda env:base] *",
   "language": "python",
   "name": "conda-base-py"
  },
  "language_info": {
   "codemirror_mode": {
    "name": "ipython",
    "version": 3
   },
   "file_extension": ".py",
   "mimetype": "text/x-python",
   "name": "python",
   "nbconvert_exporter": "python",
   "pygments_lexer": "ipython3",
   "version": "3.12.7"
  }
 },
 "nbformat": 4,
 "nbformat_minor": 5
}
