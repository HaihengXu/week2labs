{
 "cells": [
  {
   "cell_type": "markdown",
   "id": "136947c4-e057-4395-b873-a989c9008307",
   "metadata": {
    "editable": true,
    "slideshow": {
     "slide_type": ""
    },
    "tags": []
   },
   "source": [
    "UM MSBA - BGEN 632\n",
    "\n",
    "# Week 2 Instructor-led Lab\n",
    "\n",
    "In this assignment you will create basic code showcasing the concepts you learned about in the tutorial. \n",
    "\n",
    "**Create Code cells below this Markdown cell to complete the assignment. Write and run your code. To get full points, your submitted notebook must include saved output in addition to written code.** \n",
    "\n",
    "For this assignment, you are not required to create any Markdown cells but you are encouraged to do so to improve the aesthetics and organization of your lab submission. \n",
    "\n",
    "As stated in the syllabus, you <ins>must</ins> include information about your use of online resources to complete assignments, including chatbots like ChatGPT. You can include reference information within your notebooks and/or within separate files pushed to your repo on GitHub. Failure to disclose the use of online resources is a violation of course policy.\n",
    "\n",
    "## Assigning Values\n",
    "\n",
    "For this portion of the assignment, you will create variables in your notebook. You will assign a value to each variable. Please perform the following tasks and create each variable by assigning the following values:\n",
    "\n",
    "* my_int assign it a number between 1 and 20, inclusive.\n",
    "* long_a assign it the number 6,323,527,192.\n",
    "* float_pi assign it the number 3.14159\n",
    "* my_double assign it a fractional number with 13 decimals.\n",
    "* decimal_a assign it a fractional number with 20 decimals.\n",
    "* big_griz assign it the value G (uppercase).\n",
    "* my_hello assign it a greeting to the entire class.\n",
    "* my_goodbye assign it a farewell to your class.\n",
    "\n",
    "## Single Line Comments\n",
    "\n",
    "At the end of each variable, on the same line, place a single-line comment with a short description of each variable. For example, it would look like this:\n",
    "\n",
    "```\n",
    "new_double = 38.936921934     # A double with 9 decimal places\n",
    "```\n",
    "\n",
    "## Print Output\n",
    "\n",
    "Now that you have assigned values to your variables, let's print them. Output each variable individually.\n",
    "\n",
    "## Type Conversion\n",
    "\n",
    "The last task you have for this lab involves type conversion. Create new variables with the following types, names, and values. Use an explicit type conversion.\n",
    "\n",
    "* `int` named my_new_int with a number between 1 and 20, inclusive.\n",
    "* `float` named float_b with value 3.14159.\n",
    "  \n",
    "Output both variables. \n",
    "\n",
    "---"
   ]
  },
  {
   "cell_type": "code",
   "execution_count": 1,
   "id": "d66e4214-94a0-47c8-8db0-6d044515b322",
   "metadata": {},
   "outputs": [
    {
     "name": "stdout",
     "output_type": "stream",
     "text": [
      "7\n"
     ]
    }
   ],
   "source": [
    "\n",
    "my_int = 7 # Assigning 7 to my_int\n",
    "print(my_int)"
   ]
  },
  {
   "cell_type": "code",
   "execution_count": 7,
   "id": "9ce88d04-e14e-4afb-9d37-4f445eff9bc7",
   "metadata": {},
   "outputs": [
    {
     "name": "stdout",
     "output_type": "stream",
     "text": [
      "(6, 323, 527, 192)\n"
     ]
    }
   ],
   "source": [
    "long_a =  6,323,527,192 # Assigning 6,323,527,192 to long_a\n",
    "print(long_a)\n"
   ]
  },
  {
   "cell_type": "code",
   "execution_count": 11,
   "id": "80d7493e-5340-4079-969c-a6dc58a3b0e4",
   "metadata": {},
   "outputs": [
    {
     "name": "stdout",
     "output_type": "stream",
     "text": [
      "3.14159\n"
     ]
    }
   ],
   "source": [
    "float_pi = 3.14159      # Assigning 3.14159 to float_pi\n",
    "print(float_pi)"
   ]
  },
  {
   "cell_type": "code",
   "execution_count": null,
   "id": "f2f81583-c0f1-4fe3-8e72-0df668a15507",
   "metadata": {},
   "outputs": [],
   "source": [
    "my_double = 9.23123818234643 # Assigning 9.23123818234643 to my_double\n",
    "print(my_double)"
   ]
  },
  {
   "cell_type": "code",
   "execution_count": 3,
   "id": "df61b3b9-4352-43b5-b79f-16879ce40229",
   "metadata": {},
   "outputs": [
    {
     "name": "stdout",
     "output_type": "stream",
     "text": [
      "22.232132874837745\n"
     ]
    }
   ],
   "source": [
    "decimal_a = 22.23213287483774372564  # Assigning 22.23213287483774372564 to decimal_a\n",
    "print(decimal_a)"
   ]
  },
  {
   "cell_type": "code",
   "execution_count": 7,
   "id": "1beaea7a-13a9-49bb-a303-de78dd1c9b73",
   "metadata": {},
   "outputs": [
    {
     "name": "stdout",
     "output_type": "stream",
     "text": [
      "G\n"
     ]
    }
   ],
   "source": [
    "big_griz = \"G\"   # Assigning G to big_griz\n",
    "print(big_griz)"
   ]
  },
  {
   "cell_type": "code",
   "execution_count": 9,
   "id": "169775ce-e753-4821-b8b9-ee0d555c3fa4",
   "metadata": {},
   "outputs": [
    {
     "name": "stdout",
     "output_type": "stream",
     "text": [
      "Hello classmates of Grad Intro to Python\n"
     ]
    }
   ],
   "source": [
    "my_hello = \"Hello to all my classmates of Grad Intro to Python !\" # Assigning greetings to my_hello\n",
    "print(my_hello)"
   ]
  },
  {
   "cell_type": "code",
   "execution_count": 11,
   "id": "17685dec-bc6b-40c1-b183-50f866799bfc",
   "metadata": {},
   "outputs": [
    {
     "name": "stdout",
     "output_type": "stream",
     "text": [
      "Goodbye, class!\n"
     ]
    }
   ],
   "source": [
    "my_goodbye = \"Goodbye, class!\"  # Assigning Goodbye to my_goodbye\n",
    "print(my_goodbye)"
   ]
  },
  {
   "cell_type": "code",
   "execution_count": 13,
   "id": "c3fc45b3-b6c7-4f54-aacf-a01a3f7d23fb",
   "metadata": {},
   "outputs": [
    {
     "name": "stdout",
     "output_type": "stream",
     "text": [
      "7\n"
     ]
    }
   ],
   "source": [
    "my_new_int = int(\"7\") # Assigning integer 7 to my_new_int\n",
    "print(my_new_int)"
   ]
  },
  {
   "cell_type": "code",
   "execution_count": 15,
   "id": "d3348705-5a32-48c9-8c90-1c6715f4562c",
   "metadata": {},
   "outputs": [
    {
     "name": "stdout",
     "output_type": "stream",
     "text": [
      "3.14159\n"
     ]
    }
   ],
   "source": [
    "float_b = float(\"3.14159\") # Assigning float 3.14159 to float_b\n",
    "print(float_b)"
   ]
  }
 ],
 "metadata": {
  "kernelspec": {
   "display_name": "Python [conda env:base] *",
   "language": "python",
   "name": "conda-base-py"
  },
  "language_info": {
   "codemirror_mode": {
    "name": "ipython",
    "version": 3
   },
   "file_extension": ".py",
   "mimetype": "text/x-python",
   "name": "python",
   "nbconvert_exporter": "python",
   "pygments_lexer": "ipython3",
   "version": "3.12.7"
  }
 },
 "nbformat": 4,
 "nbformat_minor": 5
}
